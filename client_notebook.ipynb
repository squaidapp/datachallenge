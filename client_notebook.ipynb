{
 "cells": [
  {
   "cell_type": "markdown",
   "metadata": {},
   "source": [
    "## Simple usage example"
   ]
  },
  {
   "cell_type": "code",
   "execution_count": null,
   "metadata": {},
   "outputs": [],
   "source": [
    "#Libraries\n",
    "import json\n",
    "import requests\n",
    "import pandas as pd\n",
    "import functions as F"
   ]
  },
  {
   "cell_type": "code",
   "execution_count": null,
   "metadata": {},
   "outputs": [],
   "source": [
    "#Some constants\n",
    "API_URL = \"http://localhost:8000/\"\n",
    "CSV_FILE_PATH_EMPLOYEE = \"./data/hired_employees.csv\" \n",
    "CSV_FILE_PATH_DEPARTMENTS = \"./data/departments.csv\" \n",
    "CSV_FILE_PATH_JOBS = \"./data/jobs.csv\" \n",
    "RDS_SECRETARN = \"rds!db-6849e7f9-0614-42df-8224-eeee9f554f17\"\n"
   ]
  },
  {
   "cell_type": "code",
   "execution_count": null,
   "metadata": {},
   "outputs": [],
   "source": [
    "# First Metric example\n",
    "response = requests.get(f\"{API_URL}metrics/quarterhires\")\n",
    "pd.DataFrame(json.loads(response.text)['data'])"
   ]
  },
  {
   "cell_type": "code",
   "execution_count": null,
   "metadata": {},
   "outputs": [],
   "source": [
    "# Second Metric example\n",
    "response = requests.get(f\"{API_URL}metrics/topdepartments\")\n",
    "pd.DataFrame(json.loads(response.text)['data'])"
   ]
  },
  {
   "cell_type": "code",
   "execution_count": null,
   "metadata": {},
   "outputs": [],
   "source": [
    "#Inyect employee data through the API\n",
    "files = {'file': open(CSV_FILE_PATH_EMPLOYEE,'rb')}\n",
    "response = requests.post(f\"{API_URL}employees/upload\", files=files)\n",
    "print(response.status_code)\n",
    "display(pd.DataFrame(json.loads(response.text)['data_inserted']))\n",
    "display(pd.DataFrame(json.loads(response.text)['data_discarded']))\n"
   ]
  },
  {
   "cell_type": "code",
   "execution_count": null,
   "metadata": {},
   "outputs": [],
   "source": [
    "#Inyect departments data through the API\n",
    "files = {'file': open(CSV_FILE_PATH_DEPARTMENTS,'rb')}\n",
    "response = requests.post(f\"{API_URL}employees/upload\", files=files)\n",
    "pd.DataFrame(json.loads(response.text)['data_inserted'])"
   ]
  },
  {
   "cell_type": "code",
   "execution_count": null,
   "metadata": {},
   "outputs": [],
   "source": [
    "#Inyect emplyee data through the API\n",
    "files = {'file': open(CSV_FILE_PATH_JOBS,'rb')}\n",
    "response = requests.post(f\"{API_URL}employees/upload\", files=files)\n",
    "pd.DataFrame(json.loads(response.text)['data_inserted'])"
   ]
  },
  {
   "cell_type": "markdown",
   "metadata": {},
   "source": [
    "### Just for development using jumbox/bastion to connect with RDS"
   ]
  },
  {
   "cell_type": "code",
   "execution_count": 1,
   "metadata": {},
   "outputs": [],
   "source": [
    "import boto3\n",
    "import json\n",
    "import csv\n",
    "import codecs\n",
    "import functions as F\n",
    "import pandas as pd\n",
    "from mysql.connector import connect"
   ]
  },
  {
   "cell_type": "code",
   "execution_count": 2,
   "metadata": {},
   "outputs": [],
   "source": [
    "ENV_VARIABLES = json.load(open('env_variables.json'))\n",
    "BOTO3_SESSION = boto3.Session(profile_name=\"PERSONAL\")\n"
   ]
  },
  {
   "cell_type": "code",
   "execution_count": 3,
   "metadata": {},
   "outputs": [],
   "source": [
    "\n",
    "# Read Schemas\n",
    "DB_NAME = ENV_VARIABLES[\"DB_NAME\"]\n",
    "DB_CREDENTIALS = F.get_secret(BOTO3_SESSION, 'us-east-1', ENV_VARIABLES[\"SECRET_RDS\"])\n"
   ]
  },
  {
   "cell_type": "code",
   "execution_count": 19,
   "metadata": {},
   "outputs": [],
   "source": [
    "\n",
    "# Consulta de inserción SQL\n",
    "\n",
    "conn = connect(\n",
    "    host=\"localhost\",\n",
    "    user=DB_CREDENTIALS['username'],\n",
    "    password=DB_CREDENTIALS['password']\n",
    ")\n",
    "\n",
    "cursor = conn.cursor()\n",
    "cursor.execute(F\"USE {DB_NAME}\")\n",
    "\n"
   ]
  },
  {
   "cell_type": "code",
   "execution_count": 23,
   "metadata": {},
   "outputs": [],
   "source": [
    "# Inserta los registros en la base de datos utilizando executemany\n",
    "cursor.execute(\"SELECT * FROM employees\")"
   ]
  },
  {
   "cell_type": "code",
   "execution_count": 10,
   "metadata": {},
   "outputs": [
    {
     "data": {
      "text/plain": [
       "[]"
      ]
     },
     "execution_count": 10,
     "metadata": {},
     "output_type": "execute_result"
    }
   ],
   "source": [
    "results = cursor.fetchall()\n",
    "result_dicts = [dict(zip(cursor.column_names, row)) for row in results]\n",
    "result_dicts"
   ]
  },
  {
   "cell_type": "code",
   "execution_count": 24,
   "metadata": {},
   "outputs": [],
   "source": [
    "conn.commit()\n",
    "cursor.close()\n",
    "conn.close()\n"
   ]
  },
  {
   "cell_type": "code",
   "execution_count": null,
   "metadata": {},
   "outputs": [],
   "source": []
  }
 ],
 "metadata": {
  "kernelspec": {
   "display_name": "Python 3",
   "language": "python",
   "name": "python3"
  },
  "language_info": {
   "codemirror_mode": {
    "name": "ipython",
    "version": 3
   },
   "file_extension": ".py",
   "mimetype": "text/x-python",
   "name": "python",
   "nbconvert_exporter": "python",
   "pygments_lexer": "ipython3",
   "version": "3.10.4"
  }
 },
 "nbformat": 4,
 "nbformat_minor": 2
}
